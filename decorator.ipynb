{
 "cells": [
  {
   "cell_type": "code",
   "execution_count": 3,
   "id": "0165ee3d",
   "metadata": {},
   "outputs": [
    {
     "name": "stdout",
     "output_type": "stream",
     "text": [
      "Back\n"
     ]
    }
   ],
   "source": [
    "def result(marks):\n",
    "    for mark in marks:\n",
    "        if mark < 33:\n",
    "            print(\"Back\")\n",
    "            break\n",
    "# this else statement will run onlly when above for loop will run full time if break statement run then else will not run\n",
    "    else:\n",
    "        print(\"Pass\")\n",
    "        \n",
    "result([45,67,32,78])\n",
    "# i want to modify the result function in this way that if any student get marks > 75 then distinction should be print \n",
    "# for every above 75 mark so for that we need to use decorator\n",
    "\n"
   ]
  },
  {
   "cell_type": "code",
   "execution_count": 1,
   "id": "d8f82c3b",
   "metadata": {},
   "outputs": [
    {
     "name": "stdout",
     "output_type": "stream",
     "text": [
      "Distinction\n",
      "Distinction\n",
      "Back\n"
     ]
    }
   ],
   "source": [
    "# so here decor is a decorator\n",
    "def decor(func):\n",
    "    def distinction(marks):\n",
    "        for mark in marks:\n",
    "            if mark >= 75:\n",
    "                print(\"Distinction\")\n",
    "        func(marks)\n",
    "    return distinction\n",
    "    \n",
    "\n",
    "# here by using @decor means whenever we call the result function then decor function is called and result function \n",
    "# is passsed as an argument\n",
    "@decor\n",
    "def result(marks):\n",
    "    for mark in marks:\n",
    "        if mark < 33:\n",
    "            print(\"Back\")\n",
    "            break\n",
    "    else:\n",
    "        print(\"Pass\")\n",
    "        \n",
    "result([89,45,67,32,78])"
   ]
  },
  {
   "cell_type": "code",
   "execution_count": null,
   "id": "3b8300a1",
   "metadata": {},
   "outputs": [],
   "source": []
  }
 ],
 "metadata": {
  "kernelspec": {
   "display_name": "Python 3 (ipykernel)",
   "language": "python",
   "name": "python3"
  },
  "language_info": {
   "codemirror_mode": {
    "name": "ipython",
    "version": 3
   },
   "file_extension": ".py",
   "mimetype": "text/x-python",
   "name": "python",
   "nbconvert_exporter": "python",
   "pygments_lexer": "ipython3",
   "version": "3.9.13"
  }
 },
 "nbformat": 4,
 "nbformat_minor": 5
}
